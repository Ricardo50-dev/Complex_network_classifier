{
  "nbformat": 4,
  "nbformat_minor": 0,
  "metadata": {
    "colab": {
      "provenance": [],
      "authorship_tag": "ABX9TyPxiKjDWOER0h9KTpkR+BeV",
      "include_colab_link": true
    },
    "kernelspec": {
      "name": "python3",
      "display_name": "Python 3"
    },
    "language_info": {
      "name": "python"
    }
  },
  "cells": [
    {
      "cell_type": "markdown",
      "metadata": {
        "id": "view-in-github",
        "colab_type": "text"
      },
      "source": [
        "<a href=\"https://colab.research.google.com/github/Ricardo50-dev/Complex_network_measure/blob/main/Complex_network_measures.ipynb\" target=\"_parent\"><img src=\"https://colab.research.google.com/assets/colab-badge.svg\" alt=\"Open In Colab\"/></a>"
      ]
    },
    {
      "cell_type": "code",
      "execution_count": 3,
      "metadata": {
        "id": "CwALQwEzuHl0"
      },
      "outputs": [],
      "source": [
        "import igraph as ig\n",
        "import numpy as np\n",
        "\n",
        "\n",
        "def Assortativity(graph):\n",
        "    return ig.Graph.assortativity_degree(graph)\n",
        "\n",
        "\n",
        "def ClustCoefficient(graph):\n",
        "    return ig.Graph.transitivity_avglocal_undirected(graph)\n",
        "\n",
        "\n",
        "def AvgDegree(graph):\n",
        "    return np.mean(ig.Graph.degree(graph))\n",
        "\n",
        "\n",
        "def Betweenness(graph):\n",
        "    return np.mean(ig.Graph.betweenness(graph))\n",
        "\n",
        "\n",
        "def AvgPathLength(graph):\n",
        "    return ig.Graph.average_path_length(graph)\n",
        "\n",
        "\n",
        "def Closeness(graph):\n",
        "    return np.mean(ig.Graph.closeness(graph))"
      ]
    }
  ]
}